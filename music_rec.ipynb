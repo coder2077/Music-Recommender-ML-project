{
  "nbformat": 4,
  "nbformat_minor": 0,
  "metadata": {
    "colab": {
      "name": "learn_ml1.ipynb",
      "provenance": [],
      "collapsed_sections": [],
      "authorship_tag": "ABX9TyOFfwoLk7PcBSvBzjQ3fOJX",
      "include_colab_link": true
    },
    "kernelspec": {
      "name": "python3",
      "display_name": "Python 3"
    },
    "language_info": {
      "name": "python"
    }
  },
  "cells": [
    {
      "cell_type": "markdown",
      "metadata": {
        "id": "view-in-github",
        "colab_type": "text"
      },
      "source": [
        "<a href=\"https://colab.research.google.com/github/coder2077/Music-Recommender-ML-project/blob/main/music_rec.ipynb\" target=\"_parent\"><img src=\"https://colab.research.google.com/assets/colab-badge.svg\" alt=\"Open In Colab\"/></a>"
      ]
    },
    {
      "cell_type": "code",
      "execution_count": 14,
      "metadata": {
        "id": "aytZAMRUKpEx",
        "colab": {
          "base_uri": "https://localhost:8080/"
        },
        "outputId": "8f38fc1b-781e-462c-8e6c-d6c6babbdeb3"
      },
      "outputs": [
        {
          "output_type": "stream",
          "name": "stdout",
          "text": [
            "    age  gender      genre\n",
            "0    20       1     HipHop\n",
            "1    23       1     HipHop\n",
            "2    25       1     HipHop\n",
            "3    26       1       Jazz\n",
            "4    29       1       Jazz\n",
            "5    30       1       Jazz\n",
            "6    31       1  Classical\n",
            "7    33       1  Classical\n",
            "8    37       1  Classical\n",
            "9    20       0      Dance\n",
            "10   21       0      Dance\n",
            "11   25       0      Dance\n",
            "12   26       0   Acoustic\n",
            "13   27       0   Acoustic\n",
            "14   30       0   Acoustic\n",
            "15   31       0  Classical\n",
            "16   34       0  Classical\n",
            "17   35       0  Classical\n"
          ]
        }
      ],
      "source": [
        "import pandas as pd\n",
        "\n",
        "df = pd.read_csv('music.csv')\n",
        "print(df)"
      ]
    },
    {
      "cell_type": "markdown",
      "source": [
        "## Describe"
      ],
      "metadata": {
        "id": "x0Tn_aJ_Zx2w"
      }
    },
    {
      "cell_type": "code",
      "source": [
        "print(df.describe())"
      ],
      "metadata": {
        "colab": {
          "base_uri": "https://localhost:8080/"
        },
        "id": "8KR45MWgZ1EB",
        "outputId": "da80c15e-9abe-4270-e83c-18c61b4c0c96"
      },
      "execution_count": 15,
      "outputs": [
        {
          "output_type": "stream",
          "name": "stdout",
          "text": [
            "             age     gender\n",
            "count  18.000000  18.000000\n",
            "mean   27.944444   0.500000\n",
            "std     5.127460   0.514496\n",
            "min    20.000000   0.000000\n",
            "25%    25.000000   0.000000\n",
            "50%    28.000000   0.500000\n",
            "75%    31.000000   1.000000\n",
            "max    37.000000   1.000000\n"
          ]
        }
      ]
    },
    {
      "cell_type": "markdown",
      "source": [
        "## Using Scikit learn"
      ],
      "metadata": {
        "id": "zHvH29Kjbc5h"
      }
    },
    {
      "cell_type": "code",
      "source": [
        "from sklearn.tree import DecisionTreeClassifier\n",
        "\n",
        "\n",
        "music_data = pd.read_csv('music.csv')\n",
        "\n",
        "x = music_data.drop(columns=['genre'])\n",
        "y = music_data['genre']\n",
        "\n",
        "model = DecisionTreeClassifier() # Creating a model\n",
        "model.fit(x.values, y) # Training the model\n",
        "\n",
        "\n",
        "predictions = model.predict([ [21, 1], [37, 0] ])\n",
        "print(predictions)"
      ],
      "metadata": {
        "colab": {
          "base_uri": "https://localhost:8080/"
        },
        "id": "7Cyu3-REbhU8",
        "outputId": "baae1340-6585-40eb-9305-6cb67cd395e5"
      },
      "execution_count": 30,
      "outputs": [
        {
          "output_type": "stream",
          "name": "stdout",
          "text": [
            "['HipHop' 'Classical']\n"
          ]
        }
      ]
    },
    {
      "cell_type": "markdown",
      "source": [
        "Saving model and load the model"
      ],
      "metadata": {
        "id": "I0iAenxXCBl5"
      }
    },
    {
      "cell_type": "code",
      "source": [
        "import joblib\n",
        "\n",
        "joblib.dump(model, 'music_rec.joblib') # Saving trained model\n",
        "model = joblib.load('music_rec.joblib') # Open and using model\n",
        "\n",
        "predictions = model.predict([ [40, 0] ])\n",
        "print(predictions)"
      ],
      "metadata": {
        "colab": {
          "base_uri": "https://localhost:8080/"
        },
        "id": "YDzZHQmQCFce",
        "outputId": "e48c9eb6-9fc4-4f02-cc6a-2eeb6536f846"
      },
      "execution_count": 34,
      "outputs": [
        {
          "output_type": "stream",
          "name": "stdout",
          "text": [
            "['Classical']\n"
          ]
        }
      ]
    },
    {
      "cell_type": "markdown",
      "source": [
        "#Visualizing a Decision Tree"
      ],
      "metadata": {
        "id": "McjfVBzDC93H"
      }
    },
    {
      "cell_type": "code",
      "source": [
        "from sklearn import tree\n",
        "\n",
        "\n",
        "tree.export_graphviz(model, out_file='model_output.dot', \n",
        "                     feature_names=['age', 'gender'], \n",
        "                     class_names=sorted(y.unique()), \n",
        "                     label='all', \n",
        "                     rounded=True, \n",
        "                     filled=True)   # Export model as file"
      ],
      "metadata": {
        "id": "9D_htFjbDBnY"
      },
      "execution_count": 29,
      "outputs": []
    },
    {
      "cell_type": "code",
      "source": [
        "print(sorted(y.unique()))"
      ],
      "metadata": {
        "colab": {
          "base_uri": "https://localhost:8080/"
        },
        "id": "-oRjA6xeGDqW",
        "outputId": "a4dcf9cd-ec08-466f-8304-622200978715"
      },
      "execution_count": 32,
      "outputs": [
        {
          "output_type": "stream",
          "name": "stdout",
          "text": [
            "['Acoustic', 'Classical', 'Dance', 'HipHop', 'Jazz']\n"
          ]
        }
      ]
    },
    {
      "cell_type": "code",
      "source": [
        "print(music_data.head())"
      ],
      "metadata": {
        "colab": {
          "base_uri": "https://localhost:8080/"
        },
        "id": "ygG-CPbuIp8V",
        "outputId": "9d3cd74c-d2ab-4cd0-900f-bcada99592ba"
      },
      "execution_count": 33,
      "outputs": [
        {
          "output_type": "stream",
          "name": "stdout",
          "text": [
            "   age  gender   genre\n",
            "0   20       1  HipHop\n",
            "1   23       1  HipHop\n",
            "2   25       1  HipHop\n",
            "3   26       1    Jazz\n",
            "4   29       1    Jazz\n"
          ]
        }
      ]
    }
  ]
}